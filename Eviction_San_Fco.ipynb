{
  "nbformat": 4,
  "nbformat_minor": 0,
  "metadata": {
    "colab": {
      "name": "Eviction San Fco.ipynb",
      "provenance": [],
      "authorship_tag": "ABX9TyMqyF5dnjgZ3blshtCx/bzA",
      "include_colab_link": true
    },
    "kernelspec": {
      "name": "python3",
      "display_name": "Python 3"
    },
    "language_info": {
      "name": "python"
    }
  },
  "cells": [
    {
      "cell_type": "markdown",
      "metadata": {
        "id": "view-in-github",
        "colab_type": "text"
      },
      "source": [
        "<a href=\"https://colab.research.google.com/github/AlbertoBunster/Public-Porftolio/blob/main/Eviction_San_Fco.ipynb\" target=\"_parent\"><img src=\"https://colab.research.google.com/assets/colab-badge.svg\" alt=\"Open In Colab\"/></a>"
      ]
    },
    {
      "cell_type": "code",
      "source": [
        "# Set up\n",
        "import numpy as np\n",
        "import pandas as pd\n"
      ],
      "metadata": {
        "id": "2zKAo5NBGvXJ"
      },
      "execution_count": null,
      "outputs": []
    },
    {
      "cell_type": "markdown",
      "source": [
        "### Contenido\n",
        "<a id=\"0\"></a><br>\n",
        "[Background / Antecedentes](#10)  \n",
        "[Preparation / Preparación](#20)  \n",
        "[Analysis / Análisis](#30)  \n",
        "[Conclusions / Conclusiones](#40)  \n",
        "[Sugestions / Sugerencias](#50)\n"
      ],
      "metadata": {
        "id": "emtO5nwtJSXu"
      }
    },
    {
      "cell_type": "code",
      "source": [
        ""
      ],
      "metadata": {
        "id": "wyEkGTfrJR0Y"
      },
      "execution_count": null,
      "outputs": []
    }
  ]
}